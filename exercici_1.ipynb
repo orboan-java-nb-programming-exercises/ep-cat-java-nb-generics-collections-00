{
 "cells": [
  {
   "cell_type": "markdown",
   "metadata": {},
   "source": [
    "# Exercici pràctic Java - Generics i Collections"
   ]
  },
  {
   "cell_type": "markdown",
   "metadata": {},
   "source": [
    "(NOTA: és un exercici d'examen, senzill)\n",
    "\n",
    "### Primer pas: creeu una classe Pair, usant genèrics, que compleixi la següent descripció:\n",
    "\n",
    "La classe Pair tindrà dues propietats (privades): key i value (aquests són els noms de les variables). El tipus de dada de cadascuna d'aquestes propietats seran tipus de dades genèrics. \n",
    "\n",
    "Heu d'escriure també els corresponents setters i getters de cada propietat.\n",
    "\n"
   ]
  },
  {
   "cell_type": "code",
   "execution_count": 14,
   "metadata": {},
   "outputs": [],
   "source": [
    "class Pair {\n",
    "\n",
    "    //TODO\n",
    "\n",
    "}"
   ]
  },
  {
   "cell_type": "markdown",
   "metadata": {},
   "source": [
    "### Segon pas: creeu la classe Person\n",
    "Un cop tingueu definida la classe Pair, creareu una classe Person, amb les següents propietats:\n",
    "\n",
    "* -name: String\n",
    "* -surname: String\n",
    "* -dateOfBirth: LocalDate\n",
    "\n",
    "Les propietats ``name`` i ``surname`` han de ser _final_.\n",
    "\n",
    "Heu de crear els corresponents setters i getters.\n",
    "\n",
    "Heu de crear un constructor al qual se li pugui passar el nom i el cognom.\n",
    "\n",
    "Heu de crear també el constructor per defecte que crea l'objecte sense cap paràmetre.\n",
    "\n"
   ]
  },
  {
   "cell_type": "code",
   "execution_count": 15,
   "metadata": {},
   "outputs": [],
   "source": [
    "\n",
    "class Person{\n",
    "\n",
    "    //TODO\n",
    "\n",
    "}\n"
   ]
  },
  {
   "cell_type": "markdown",
   "metadata": {},
   "source": [
    "### Tercer pas: programeu el següent cas d'ús de la classe Pair:\n",
    "En la següent cel·la teniu un map on la **clau** és el DNI de la persona, i el **valor** és el nom i cognoms de la persona.\n",
    "\n",
    "Heu de crear un arrayList de Pair, on cada objecte Pair tindrà com a primer tipus de dada (key) el DNI d'una persona, i com segon tipus de dada (value) un objecte Person (**no confondre el key i value de la classe Pair amb el key i value del map**):\n",
    "\n",
    "* la clau de cada Pair s'obtindrà de la clau del map,\n",
    "* el valor de cada Pair serà un objecte Person creat amb el constructor de 2 paràmetres (nom i cognom), obtening el nom i cognom de l'String que forma el value del map.\n",
    "\n",
    "Un cop creat l'arrayList, fareu un recorregut amb un forearh i imprimireu per pantalla el DNI i el nom i cognoms de cada persona. Podeu sobreescriure el mètode toString a la classe Person."
   ]
  },
  {
   "cell_type": "code",
   "execution_count": 16,
   "metadata": {},
   "outputs": [],
   "source": [
    "Map<String, String> dataPersons = new HashMap<>();\n",
    "dataPersons.put(\"12345678A\", \"Laura Casamitjana\");\n",
    "dataPersons.put(\"98765439Z\", \"Josep Casacuberta\");\n",
    "dataPersons.put(\"45645632P\", \"Miquel Queralt\");\n",
    "dataPersons.put(\"23498755H\", \"Eulalia Forners\");\n",
    "dataPersons.put(\"07651206T\", \"Abril Nevada\");"
   ]
  },
  {
   "cell_type": "code",
   "execution_count": 20,
   "metadata": {},
   "outputs": [],
   "source": [
    "List<Pair> persons;\n",
    "//El següent mètode imprimirà les persones i retornarà una llista de Cell amb totes les persones\n",
    "public static List<Pair> printPersons(Map<String, String> data){\n",
    "    //TODO - fes el teu codi aquí\n",
    "    return new ArrayList<Pair>(); //modifiqueu perquè retorni la List correcte\n",
    "}"
   ]
  },
  {
   "cell_type": "markdown",
   "metadata": {},
   "source": [
    "#### Prova el teu codi executant la següent cel·la de codi, cridant la funció ```printPersons```:\n",
    "Ha d'imprimir, usant les classes Pair i Person, i usant un foreach que recorri un arrayList de Cell:\n",
    "``` \n",
    "Laura Casamitjana té DNI 12345678A\n",
    "Josep Casacuberta té DNI 98765439Z\n",
    "Miquel Queralt té DNI 45645632P\n",
    "Eulalia Forners té DNI 23498755H\n",
    "Abril Nevada té DNI 07651206T\n",
    "```"
   ]
  },
  {
   "cell_type": "code",
   "execution_count": 23,
   "metadata": {},
   "outputs": [],
   "source": [
    "persons = printPersons(dataPersons);"
   ]
  },
  {
   "cell_type": "markdown",
   "metadata": {},
   "source": [
    "#### Exercici extra:\n",
    "Assigna a cada persona una data de naixement. Això ho has de fer recorrent l'arrayList de Pair, guardat a la variable ```persons```, i usant el corresponent setter.\n",
    "\n",
    "Un cop totes les persones tenen una data de naixement assignada, completa el següent mètode per a imprimir l'edat actual de cada persona:\n",
    "\n",
    "Pista: https://www.w3resource.com/java-exercises/datetime/java-datetime-exercise-32.php"
   ]
  },
  {
   "cell_type": "code",
   "execution_count": 24,
   "metadata": {},
   "outputs": [],
   "source": [
    "public static void printAges(List<Pair> persons){\n",
    "//TODO\n",
    "}"
   ]
  },
  {
   "cell_type": "code",
   "execution_count": null,
   "metadata": {},
   "outputs": [],
   "source": []
  }
 ],
 "metadata": {
  "kernelspec": {
   "display_name": "Java",
   "language": "java",
   "name": "java"
  },
  "language_info": {
   "codemirror_mode": "java",
   "file_extension": ".jshell",
   "mimetype": "text/x-java-source",
   "name": "Java",
   "pygments_lexer": "java",
   "version": "11.0.9+11-Ubuntu-0ubuntu1.20.04"
  }
 },
 "nbformat": 4,
 "nbformat_minor": 4
}
